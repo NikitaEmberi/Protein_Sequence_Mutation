{
 "cells": [
  {
   "cell_type": "code",
   "execution_count": 1,
   "id": "580ea1c9-33d5-4295-996f-e9ce9a5e004f",
   "metadata": {},
   "outputs": [],
   "source": [
    "import pandas as pd\n",
    "import re\n",
    "import requests"
   ]
  },
  {
   "cell_type": "code",
   "execution_count": 2,
   "id": "d32ef233-1c1b-4ceb-a29e-482f019f8204",
   "metadata": {},
   "outputs": [],
   "source": [
    "# Function to convert three-letter amino acid code to one-letter code\n",
    "def aa_three_to_one(three_letter_code):\n",
    "    aa_dict = {\n",
    "        'Ala': 'A', 'Arg': 'R', 'Asn': 'N', 'Asp': 'D', 'Cys': 'C',\n",
    "        'Glu': 'E', 'Gln': 'Q', 'Gly': 'G', 'His': 'H', 'Ile': 'I',\n",
    "        'Leu': 'L', 'Lys': 'K', 'Met': 'M', 'Phe': 'F', 'Pro': 'P',\n",
    "        'Ser': 'S', 'Thr': 'T', 'Trp': 'W', 'Tyr': 'Y', 'Val': 'V'\n",
    "    }\n",
    "    return aa_dict.get(three_letter_code, '')"
   ]
  },
  {
   "cell_type": "code",
   "execution_count": 3,
   "id": "f9a832b8-ccb8-4bb9-aac3-faa93fb2ead7",
   "metadata": {},
   "outputs": [],
   "source": [
    "# Function to fetch protein sequence using Ensembl API\n",
    "def get_protein_sequence(transcript_id):\n",
    "    server = \"https://rest.ensembl.org\"\n",
    "    ext = f\"/sequence/id/{transcript_id}?type=protein\"\n",
    "    \n",
    "    response = requests.get(server + ext, headers={\"Content-Type\": \"application/json\"})\n",
    "    if not response.ok:\n",
    "        response.raise_for_status()\n",
    "    \n",
    "    return response.json()"
   ]
  },
  {
   "cell_type": "code",
   "execution_count": 19,
   "id": "e8155dc4-ea61-44ff-bab0-a123d3fd0feb",
   "metadata": {},
   "outputs": [],
   "source": [
    "def parse_hgvs_consequence(hgvs_consequence):\n",
    "    import re\n",
    "    deletion_pattern = re.compile(r'p\\.([A-Za-z]+)(\\d+)_?([A-Za-z]*)?(\\d+)?del(?:ins([A-Za-z]+))?')\n",
    "    \n",
    "    match = deletion_pattern.match(hgvs_consequence)\n",
    "    if match:\n",
    "        start_aa = match.group(1)\n",
    "        start_pos = int(match.group(2))\n",
    "        end_aa = match.group(3) if match.group(3) else start_aa\n",
    "        end_pos = int(match.group(4)) if match.group(4) else start_pos\n",
    "        insertion = match.group(5) if match.group(5) else ''\n",
    "        return (start_aa, start_pos, end_aa, end_pos, insertion)\n",
    "    else:\n",
    "        raise ValueError(f\"Invalid HGVS consequence format: {hgvs_consequence}\")"
   ]
  },
  {
   "cell_type": "code",
   "execution_count": 20,
   "id": "117f317d-9b3f-43ea-9c77-e31f777f588d",
   "metadata": {},
   "outputs": [],
   "source": [
    "def apply_inframe_deletion(wildtype_sequence, hgvs_consequence):\n",
    "    start_aa, start_pos, end_aa, end_pos, insertion = parse_hgvs_consequence(hgvs_consequence)\n",
    "    \n",
    "    deletion_start_index = start_pos - 1\n",
    "    deletion_end_index = end_pos - 1\n",
    "    \n",
    "    # Perform the deletion\n",
    "    mutated_sequence = wildtype_sequence[:deletion_start_index] + wildtype_sequence[deletion_end_index + 1:]\n",
    "    \n",
    "    # Handle insertion if present\n",
    "    if insertion:\n",
    "        insertion_one_letter = aa_three_to_one(insertion)\n",
    "        mutated_sequence = mutated_sequence[:deletion_start_index] + insertion_one_letter + mutated_sequence[deletion_start_index:]\n",
    "    \n",
    "    return mutated_sequence"
   ]
  },
  {
   "cell_type": "code",
   "execution_count": 9,
   "id": "5a355aca-5f08-439a-be46-baa404301d22",
   "metadata": {},
   "outputs": [],
   "source": [
    "latest_df = pd.read_csv('dataset_v2.csv')"
   ]
  },
  {
   "cell_type": "code",
   "execution_count": 12,
   "id": "a9f0b2f1-ab65-4a81-892c-5f74feb10a11",
   "metadata": {},
   "outputs": [],
   "source": [
    "columns_to_copy = ['rsIDs', 'Transcript', 'Allele Frequency', 'HGVS Consequence', 'VEP Annotation']\n",
    "inframe_del_df = latest_df[columns_to_copy].copy()"
   ]
  },
  {
   "cell_type": "code",
   "execution_count": 13,
   "id": "8a871d84-e77d-4ee4-b833-35c9efdce5c7",
   "metadata": {},
   "outputs": [],
   "source": [
    "inframe_del_df = inframe_del_df[inframe_del_df['VEP Annotation'] == 'inframe_deletion']"
   ]
  },
  {
   "cell_type": "code",
   "execution_count": 14,
   "id": "466ad75b-0ecc-4bc4-b30e-3a25ac456e32",
   "metadata": {},
   "outputs": [],
   "source": [
    "unique_transcripts = inframe_del_df['Transcript'].unique()\n",
    "unique_transcripts = [x.split('.')[0] for x in unique_transcripts]\n",
    "unique_transcripts = set(unique_transcripts)"
   ]
  },
  {
   "cell_type": "code",
   "execution_count": 15,
   "id": "db92810b-8c9f-4844-a861-9957ceb281f8",
   "metadata": {},
   "outputs": [],
   "source": [
    "wildtype_seq = {}\n",
    "\n",
    "for transcript in unique_transcripts:\n",
    "    try:\n",
    "        sequence = get_protein_sequence(transcript)\n",
    "        wildtype_seq[transcript] = sequence['seq']\n",
    "    except Exception as e:\n",
    "        print(f\"Error fetching sequence for {transcript_id}: {e}\")"
   ]
  },
  {
   "cell_type": "code",
   "execution_count": 21,
   "id": "23e714b2-15c3-4e4f-b321-6df2e03c4631",
   "metadata": {},
   "outputs": [],
   "source": [
    "def apply_mutation(row):\n",
    "    mutation = row['HGVS Consequence']\n",
    "    sequence = row['Transcript']\n",
    "    sequence = wildtype_seq[sequence.split('.')[0]]\n",
    "    \n",
    "    if mutation.startswith(\"p.\"):\n",
    "        try:\n",
    "            return apply_inframe_deletion(sequence, mutation)\n",
    "        except ValueError as e:\n",
    "            return f\"Error: {e}\"\n",
    "\n",
    "inframe_del_df['Mutated sequence'] = inframe_del_df.apply(apply_mutation, axis=1)"
   ]
  },
  {
   "cell_type": "code",
   "execution_count": 23,
   "id": "84fbeb0b-4e87-41bb-bfba-92f589c019f4",
   "metadata": {},
   "outputs": [
    {
     "data": {
      "text/html": [
       "<div>\n",
       "<style scoped>\n",
       "    .dataframe tbody tr th:only-of-type {\n",
       "        vertical-align: middle;\n",
       "    }\n",
       "\n",
       "    .dataframe tbody tr th {\n",
       "        vertical-align: top;\n",
       "    }\n",
       "\n",
       "    .dataframe thead th {\n",
       "        text-align: right;\n",
       "    }\n",
       "</style>\n",
       "<table border=\"1\" class=\"dataframe\">\n",
       "  <thead>\n",
       "    <tr style=\"text-align: right;\">\n",
       "      <th></th>\n",
       "      <th>rsIDs</th>\n",
       "      <th>Transcript</th>\n",
       "      <th>Allele Frequency</th>\n",
       "      <th>HGVS Consequence</th>\n",
       "      <th>VEP Annotation</th>\n",
       "      <th>Mutated sequence</th>\n",
       "    </tr>\n",
       "  </thead>\n",
       "  <tbody>\n",
       "    <tr>\n",
       "      <th>300</th>\n",
       "      <td>NaN</td>\n",
       "      <td>ENST00000269571.10</td>\n",
       "      <td>6.216369e-07</td>\n",
       "      <td>p.Gly222_Ala225del</td>\n",
       "      <td>inframe_deletion</td>\n",
       "      <td>MELAALCRWGLLLALLPPGAASTQVCTGTDMKLRLPASPETHLDML...</td>\n",
       "    </tr>\n",
       "    <tr>\n",
       "      <th>460</th>\n",
       "      <td>NaN</td>\n",
       "      <td>ENST00000269571.10</td>\n",
       "      <td>1.239157e-06</td>\n",
       "      <td>p.Lys369del</td>\n",
       "      <td>inframe_deletion</td>\n",
       "      <td>MELAALCRWGLLLALLPPGAASTQVCTGTDMKLRLPASPETHLDML...</td>\n",
       "    </tr>\n",
       "    <tr>\n",
       "      <th>765</th>\n",
       "      <td>rs1185835397</td>\n",
       "      <td>ENST00000269571.10</td>\n",
       "      <td>7.438299e-06</td>\n",
       "      <td>p.Glu620del</td>\n",
       "      <td>inframe_deletion</td>\n",
       "      <td>MELAALCRWGLLLALLPPGAASTQVCTGTDMKLRLPASPETHLDML...</td>\n",
       "    </tr>\n",
       "    <tr>\n",
       "      <th>815</th>\n",
       "      <td>NaN</td>\n",
       "      <td>ENST00000269571.10</td>\n",
       "      <td>6.197154e-07</td>\n",
       "      <td>p.Leu667_Val670del</td>\n",
       "      <td>inframe_deletion</td>\n",
       "      <td>MELAALCRWGLLLALLPPGAASTQVCTGTDMKLRLPASPETHLDML...</td>\n",
       "    </tr>\n",
       "    <tr>\n",
       "      <th>899</th>\n",
       "      <td>NaN</td>\n",
       "      <td>ENST00000269571.10</td>\n",
       "      <td>6.195464e-07</td>\n",
       "      <td>p.Arg756del</td>\n",
       "      <td>inframe_deletion</td>\n",
       "      <td>MELAALCRWGLLLALLPPGAASTQVCTGTDMKLRLPASPETHLDML...</td>\n",
       "    </tr>\n",
       "    <tr>\n",
       "      <th>928</th>\n",
       "      <td>rs756428331</td>\n",
       "      <td>ENST00000269571.10</td>\n",
       "      <td>6.194942e-07</td>\n",
       "      <td>p.Thr798_Met801del</td>\n",
       "      <td>inframe_deletion</td>\n",
       "      <td>MELAALCRWGLLLALLPPGAASTQVCTGTDMKLRLPASPETHLDML...</td>\n",
       "    </tr>\n",
       "    <tr>\n",
       "      <th>1057</th>\n",
       "      <td>NaN</td>\n",
       "      <td>ENST00000269571.10</td>\n",
       "      <td>6.197907e-07</td>\n",
       "      <td>p.Lys937_Gly938delinsArg</td>\n",
       "      <td>inframe_deletion</td>\n",
       "      <td>MELAALCRWGLLLALLPPGAASTQVCTGTDMKLRLPASPETHLDML...</td>\n",
       "    </tr>\n",
       "    <tr>\n",
       "      <th>1130</th>\n",
       "      <td>NaN</td>\n",
       "      <td>ENST00000269571.10</td>\n",
       "      <td>6.199874e-07</td>\n",
       "      <td>p.Leu1000_Thr1003del</td>\n",
       "      <td>inframe_deletion</td>\n",
       "      <td>MELAALCRWGLLLALLPPGAASTQVCTGTDMKLRLPASPETHLDML...</td>\n",
       "    </tr>\n",
       "    <tr>\n",
       "      <th>1172</th>\n",
       "      <td>NaN</td>\n",
       "      <td>ENST00000269571.10</td>\n",
       "      <td>6.196493e-07</td>\n",
       "      <td>p.Phe1031del</td>\n",
       "      <td>inframe_deletion</td>\n",
       "      <td>MELAALCRWGLLLALLPPGAASTQVCTGTDMKLRLPASPETHLDML...</td>\n",
       "    </tr>\n",
       "    <tr>\n",
       "      <th>1216</th>\n",
       "      <td>NaN</td>\n",
       "      <td>ENST00000269571.10</td>\n",
       "      <td>8.682655e-06</td>\n",
       "      <td>p.Glu1069del</td>\n",
       "      <td>inframe_deletion</td>\n",
       "      <td>MELAALCRWGLLLALLPPGAASTQVCTGTDMKLRLPASPETHLDML...</td>\n",
       "    </tr>\n",
       "    <tr>\n",
       "      <th>1374</th>\n",
       "      <td>rs751889439</td>\n",
       "      <td>ENST00000269571.10</td>\n",
       "      <td>3.284878e-05</td>\n",
       "      <td>p.Val1181del</td>\n",
       "      <td>inframe_deletion</td>\n",
       "      <td>MELAALCRWGLLLALLPPGAASTQVCTGTDMKLRLPASPETHLDML...</td>\n",
       "    </tr>\n",
       "    <tr>\n",
       "      <th>1388</th>\n",
       "      <td>NaN</td>\n",
       "      <td>ENST00000269571.10</td>\n",
       "      <td>2.478247e-06</td>\n",
       "      <td>p.Glu1192del</td>\n",
       "      <td>inframe_deletion</td>\n",
       "      <td>MELAALCRWGLLLALLPPGAASTQVCTGTDMKLRLPASPETHLDML...</td>\n",
       "    </tr>\n",
       "    <tr>\n",
       "      <th>1411</th>\n",
       "      <td>NaN</td>\n",
       "      <td>ENST00000269571.10</td>\n",
       "      <td>6.195150e-07</td>\n",
       "      <td>p.Pro1211del</td>\n",
       "      <td>inframe_deletion</td>\n",
       "      <td>MELAALCRWGLLLALLPPGAASTQVCTGTDMKLRLPASPETHLDML...</td>\n",
       "    </tr>\n",
       "    <tr>\n",
       "      <th>1431</th>\n",
       "      <td>rs755472707</td>\n",
       "      <td>ENST00000269571.10</td>\n",
       "      <td>8.054693e-06</td>\n",
       "      <td>p.Gln1225_Asp1226del</td>\n",
       "      <td>inframe_deletion</td>\n",
       "      <td>MELAALCRWGLLLALLPPGAASTQVCTGTDMKLRLPASPETHLDML...</td>\n",
       "    </tr>\n",
       "  </tbody>\n",
       "</table>\n",
       "</div>"
      ],
      "text/plain": [
       "             rsIDs          Transcript  Allele Frequency  \\\n",
       "300            NaN  ENST00000269571.10      6.216369e-07   \n",
       "460            NaN  ENST00000269571.10      1.239157e-06   \n",
       "765   rs1185835397  ENST00000269571.10      7.438299e-06   \n",
       "815            NaN  ENST00000269571.10      6.197154e-07   \n",
       "899            NaN  ENST00000269571.10      6.195464e-07   \n",
       "928    rs756428331  ENST00000269571.10      6.194942e-07   \n",
       "1057           NaN  ENST00000269571.10      6.197907e-07   \n",
       "1130           NaN  ENST00000269571.10      6.199874e-07   \n",
       "1172           NaN  ENST00000269571.10      6.196493e-07   \n",
       "1216           NaN  ENST00000269571.10      8.682655e-06   \n",
       "1374   rs751889439  ENST00000269571.10      3.284878e-05   \n",
       "1388           NaN  ENST00000269571.10      2.478247e-06   \n",
       "1411           NaN  ENST00000269571.10      6.195150e-07   \n",
       "1431   rs755472707  ENST00000269571.10      8.054693e-06   \n",
       "\n",
       "              HGVS Consequence    VEP Annotation  \\\n",
       "300         p.Gly222_Ala225del  inframe_deletion   \n",
       "460                p.Lys369del  inframe_deletion   \n",
       "765                p.Glu620del  inframe_deletion   \n",
       "815         p.Leu667_Val670del  inframe_deletion   \n",
       "899                p.Arg756del  inframe_deletion   \n",
       "928         p.Thr798_Met801del  inframe_deletion   \n",
       "1057  p.Lys937_Gly938delinsArg  inframe_deletion   \n",
       "1130      p.Leu1000_Thr1003del  inframe_deletion   \n",
       "1172              p.Phe1031del  inframe_deletion   \n",
       "1216              p.Glu1069del  inframe_deletion   \n",
       "1374              p.Val1181del  inframe_deletion   \n",
       "1388              p.Glu1192del  inframe_deletion   \n",
       "1411              p.Pro1211del  inframe_deletion   \n",
       "1431      p.Gln1225_Asp1226del  inframe_deletion   \n",
       "\n",
       "                                       Mutated sequence  \n",
       "300   MELAALCRWGLLLALLPPGAASTQVCTGTDMKLRLPASPETHLDML...  \n",
       "460   MELAALCRWGLLLALLPPGAASTQVCTGTDMKLRLPASPETHLDML...  \n",
       "765   MELAALCRWGLLLALLPPGAASTQVCTGTDMKLRLPASPETHLDML...  \n",
       "815   MELAALCRWGLLLALLPPGAASTQVCTGTDMKLRLPASPETHLDML...  \n",
       "899   MELAALCRWGLLLALLPPGAASTQVCTGTDMKLRLPASPETHLDML...  \n",
       "928   MELAALCRWGLLLALLPPGAASTQVCTGTDMKLRLPASPETHLDML...  \n",
       "1057  MELAALCRWGLLLALLPPGAASTQVCTGTDMKLRLPASPETHLDML...  \n",
       "1130  MELAALCRWGLLLALLPPGAASTQVCTGTDMKLRLPASPETHLDML...  \n",
       "1172  MELAALCRWGLLLALLPPGAASTQVCTGTDMKLRLPASPETHLDML...  \n",
       "1216  MELAALCRWGLLLALLPPGAASTQVCTGTDMKLRLPASPETHLDML...  \n",
       "1374  MELAALCRWGLLLALLPPGAASTQVCTGTDMKLRLPASPETHLDML...  \n",
       "1388  MELAALCRWGLLLALLPPGAASTQVCTGTDMKLRLPASPETHLDML...  \n",
       "1411  MELAALCRWGLLLALLPPGAASTQVCTGTDMKLRLPASPETHLDML...  \n",
       "1431  MELAALCRWGLLLALLPPGAASTQVCTGTDMKLRLPASPETHLDML...  "
      ]
     },
     "execution_count": 23,
     "metadata": {},
     "output_type": "execute_result"
    }
   ],
   "source": [
    "inframe_del_df"
   ]
  },
  {
   "cell_type": "code",
   "execution_count": 24,
   "id": "33088014-f182-4f9c-be7c-74ab13bb441b",
   "metadata": {},
   "outputs": [
    {
     "name": "stdout",
     "output_type": "stream",
     "text": [
      "DataFrame saved to inframe_deletion.csv\n"
     ]
    }
   ],
   "source": [
    "# Saving to CSV Excel Format\n",
    "# Specify the file path where you want to save the CSV file\n",
    "file_path = 'inframe_deletion.csv'\n",
    "\n",
    "# Save the DataFrame to CSV\n",
    "inframe_del_df.to_csv(file_path, index=False)\n",
    "\n",
    "print(f\"DataFrame saved to {file_path}\")"
   ]
  },
  {
   "cell_type": "code",
   "execution_count": 25,
   "id": "c620b26c-57c4-4e23-a496-e29f71085925",
   "metadata": {},
   "outputs": [
    {
     "name": "stdout",
     "output_type": "stream",
     "text": [
      "DataFrame saved to inframe_deletion.json\n"
     ]
    }
   ],
   "source": [
    "# Specify the file path where you want to save the JSON file (txt format)\n",
    "file_path = 'inframe_deletion.json'\n",
    "\n",
    "# Save the DataFrame to JSON\n",
    "inframe_del_df.to_json(file_path, orient='records')\n",
    "\n",
    "print(f\"DataFrame saved to {file_path}\")"
   ]
  },
  {
   "cell_type": "code",
   "execution_count": 26,
   "id": "0b34daf8-f399-4f1b-82ee-c97fd9d3e9f2",
   "metadata": {},
   "outputs": [
    {
     "name": "stdout",
     "output_type": "stream",
     "text": [
      "Data converted and saved to inframe_deletionn.txt\n"
     ]
    }
   ],
   "source": [
    "import json\n",
    "\n",
    "# Specify paths\n",
    "json_file = 'inframe_deletion.json'\n",
    "txt_file = 'inframe_deletionn.txt'\n",
    "\n",
    "# Read JSON data from file\n",
    "with open(json_file, 'r') as f:\n",
    "    data = json.load(f)\n",
    "\n",
    "# Format as plain text\n",
    "text_data = ''\n",
    "for item in data:\n",
    "    text_data += f'''rsIDs: {item['rsIDs']}\\nTranscript: {item['Transcript']}\\nAllele Frequency: {item['Allele Frequency']}\\nHGVS Consequence: {item['HGVS Consequence']}\\nVEP Annotation: {item['VEP Annotation']}\\nMutated sequence: {item['Mutated sequence']}\n",
    "    \\n============================================\\n'''\n",
    "\n",
    "# Write to text file\n",
    "with open(txt_file, 'w') as f:\n",
    "    f.write(text_data)\n",
    "\n",
    "print(f\"Data converted and saved to {txt_file}\")\n"
   ]
  },
  {
   "cell_type": "code",
   "execution_count": 27,
   "id": "3ab20a1e-9944-4e0d-b1dc-1b9f30c56039",
   "metadata": {},
   "outputs": [
    {
     "data": {
      "text/plain": [
       "{'ENST00000269571': 'MELAALCRWGLLLALLPPGAASTQVCTGTDMKLRLPASPETHLDMLRHLYQGCQVVQGNLELTYLPTNASLSFLQDIQEVQGYVLIAHNQVRQVPLQRLRIVRGTQLFEDNYALAVLDNGDPLNNTTPVTGASPGGLRELQLRSLTEILKGGVLIQRNPQLCYQDTILWKDIFHKNNQLALTLIDTNRSRACHPCSPMCKGSRCWGESSEDCQSLTRTVCAGGCARCKGPLPTDCCHEQCAAGCTGPKHSDCLACLHFNHSGICELHCPALVTYNTDTFESMPNPEGRYTFGASCVTACPYNYLSTDVGSCTLVCPLHNQEVTAEDGTQRCEKCSKPCARVCYGLGMEHLREVRAVTSANIQEFAGCKKIFGSLAFLPESFDGDPASNTAPLQPEQLQVFETLEEITGYLYISAWPDSLPDLSVFQNLQVIRGRILHNGAYSLTLQGLGISWLGLRSLRELGSGLALIHHNTHLCFVHTVPWDQLFRNPHQALLHTANRPEDECVGEGLACHQLCARGHCWGPGPTQCVNCSQFLRGQECVEECRVLQGLPREYVNARHCLPCHPECQPQNGSVTCFGPEADQCVACAHYKDPPFCVARCPSGVKPDLSYMPIWKFPDEEGACQPCPINCTHSCVDLDDKGCPAEQRASPLTSIISAVVGILLVVVLGVVFGILIKRRQQKIRKYTMRRLLQETELVEPLTPSGAMPNQAQMRILKETELRKVKVLGSGAFGTVYKGIWIPDGENVKIPVAIKVLRENTSPKANKEILDEAYVMAGVGSPYVSRLLGICLTSTVQLVTQLMPYGCLLDHVRENRGRLGSQDLLNWCMQIAKGMSYLEDVRLVHRDLAARNVLVKSPNHVKITDFGLARLLDIDETEYHADGGKVPIKWMALESILRRRFTHQSDVWSYGVTVWELMTFGAKPYDGIPAREIPDLLEKGERLPQPPICTIDVYMIMVKCWMIDSECRPRFRELVSEFSRMARDPQRFVVIQNEDLGPASPLDSTFYRSLLEDDDMGDLVDAEEYLVPQQGFFCPDPAPGAGGMVHHRHRSSSTRSGGGDLTLGLEPSEEEAPRSPLAPSEGAGSDVFDGDLGMGAAKGLQSLPTHDPSPLQRYSEDPTVPLPSETDGYVAPLTCSPQPEYVNQPDVRPQPPSPREGPLPAARPAGATLERPKTLSPGKNGVVKDVFAFGGAVENPEYLTPQGGAAPQPHPPPAFSPAFDNLYYWDQDPPERGAPPSTFKGTPTAENPEYLGLDVPV'}"
      ]
     },
     "execution_count": 27,
     "metadata": {},
     "output_type": "execute_result"
    }
   ],
   "source": [
    "wildtype_seq"
   ]
  },
  {
   "cell_type": "code",
   "execution_count": null,
   "id": "ba2ef698-93d5-4239-b3ed-e08771d3964e",
   "metadata": {},
   "outputs": [],
   "source": []
  }
 ],
 "metadata": {
  "kernelspec": {
   "display_name": "Python 3 (ipykernel)",
   "language": "python",
   "name": "python3"
  },
  "language_info": {
   "codemirror_mode": {
    "name": "ipython",
    "version": 3
   },
   "file_extension": ".py",
   "mimetype": "text/x-python",
   "name": "python",
   "nbconvert_exporter": "python",
   "pygments_lexer": "ipython3",
   "version": "3.12.1"
  }
 },
 "nbformat": 4,
 "nbformat_minor": 5
}
