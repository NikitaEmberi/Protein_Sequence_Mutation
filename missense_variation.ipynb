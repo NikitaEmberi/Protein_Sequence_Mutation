{
 "cells": [
  {
   "cell_type": "code",
   "execution_count": 14,
   "id": "43b7406d-dea6-403c-8f83-c18bcaadf968",
   "metadata": {},
   "outputs": [],
   "source": [
    "import pandas as pd\n",
    "import re\n",
    "import requests"
   ]
  },
  {
   "cell_type": "code",
   "execution_count": 2,
   "id": "404cd2d7-6ff7-4ce4-ba0b-dd1fed00eb9b",
   "metadata": {},
   "outputs": [],
   "source": [
    "# Function to convert three-letter amino acid code to one-letter code\n",
    "def aa_three_to_one(three_letter_code):\n",
    "    aa_dict = {\n",
    "        'Ala': 'A', 'Arg': 'R', 'Asn': 'N', 'Asp': 'D', 'Cys': 'C',\n",
    "        'Glu': 'E', 'Gln': 'Q', 'Gly': 'G', 'His': 'H', 'Ile': 'I',\n",
    "        'Leu': 'L', 'Lys': 'K', 'Met': 'M', 'Phe': 'F', 'Pro': 'P',\n",
    "        'Ser': 'S', 'Thr': 'T', 'Trp': 'W', 'Tyr': 'Y', 'Val': 'V'\n",
    "    }\n",
    "    return aa_dict.get(three_letter_code, '')"
   ]
  },
  {
   "cell_type": "code",
   "execution_count": 3,
   "id": "14d1d667-acdc-42b2-8dda-8ede0a24b886",
   "metadata": {},
   "outputs": [],
   "source": [
    "# Function to apply missense or nonsense mutation\n",
    "def apply_protein_mutation(protein_sequence, mutation):\n",
    "    if not mutation.startswith(\"p.\"):\n",
    "        raise ValueError(f\"Invalid mutation format: {mutation}\")\n",
    "\n",
    "    # Extract information from mutation string\n",
    "    mutation_pattern = re.compile(r\"p\\.(\\D+)(\\d+)(\\D*)\")\n",
    "    match = mutation_pattern.match(mutation)\n",
    "\n",
    "    if not match:\n",
    "        raise ValueError(f\"Invalid protein mutation format: {mutation}\")\n",
    "\n",
    "    original_aa, position, new_aa = match.groups()\n",
    "    position = int(position)\n",
    "\n",
    "    # Convert three-letter amino acid codes to one-letter codes\n",
    "    original_aa_one = aa_three_to_one(original_aa)\n",
    "    new_aa_one = aa_three_to_one(new_aa)\n",
    "\n",
    "    # Check if it's a nonsense mutation (new_aa is a stop codon '*')\n",
    "    if new_aa_one == \"*\":\n",
    "        return protein_sequence[:position - 1]\n",
    "\n",
    "    # Check if the original amino acid matches the expected one in the sequence\n",
    "    if protein_sequence[position - 1] != original_aa_one:\n",
    "        raise ValueError(f\"Original amino acid {original_aa} does not match the one in the sequence at position {position}\")\n",
    "\n",
    "    # Apply the mutation\n",
    "    mutated_sequence = (protein_sequence[:position - 1] + new_aa_one + protein_sequence[position:])\n",
    "    return mutated_sequence"
   ]
  },
  {
   "cell_type": "code",
   "execution_count": 13,
   "id": "27d54615-f76b-402e-85d6-a73278a232df",
   "metadata": {},
   "outputs": [],
   "source": [
    "# Function to fetch protein sequence using Ensembl API\n",
    "def get_protein_sequence(transcript_id):\n",
    "    server = \"https://rest.ensembl.org\"\n",
    "    ext = f\"/sequence/id/{transcript_id}?type=protein\"\n",
    "    \n",
    "    response = requests.get(server + ext, headers={\"Content-Type\": \"application/json\"})\n",
    "    if not response.ok:\n",
    "        response.raise_for_status()\n",
    "    \n",
    "    return response.json()"
   ]
  },
  {
   "cell_type": "code",
   "execution_count": 4,
   "id": "0a3c022b-d9b3-4768-bc6c-6aa6a572e220",
   "metadata": {},
   "outputs": [],
   "source": [
    "file_path = 'dataset.xlsx'\n",
    "data = pd.read_excel(file_path)"
   ]
  },
  {
   "cell_type": "code",
   "execution_count": 7,
   "id": "bc1b22f1-9631-4e62-ae99-a12f243d4864",
   "metadata": {},
   "outputs": [],
   "source": [
    "columns_to_copy = ['rsIDs', 'Transcript', 'Allele Frequency', 'HGVS Consequence']\n",
    "\n",
    "missense_df = data[columns_to_copy].copy()"
   ]
  },
  {
   "cell_type": "code",
   "execution_count": 15,
   "id": "d823c19e-1c96-437f-8dd8-13b7143918f5",
   "metadata": {},
   "outputs": [],
   "source": [
    "unique_transcripts = missense_df['Transcript'].unique()\n",
    "unique_transcripts = [x.split('.')[0] for x in unique_transcripts]\n",
    "unique_transcripts = set(unique_transcripts)"
   ]
  },
  {
   "cell_type": "code",
   "execution_count": 16,
   "id": "c70fb1c5-7bb0-4734-af4b-ad63e8126ddf",
   "metadata": {},
   "outputs": [],
   "source": [
    "wildtype_seq = {}\n",
    "\n",
    "for transcript in unique_transcripts:\n",
    "    try:\n",
    "        sequence = get_protein_sequence(transcript)\n",
    "        wildtype_seq[transcript] = sequence['seq']\n",
    "    except Exception as e:\n",
    "        print(f\"Error fetching sequence for {transcript_id}: {e}\")"
   ]
  },
  {
   "cell_type": "code",
   "execution_count": 17,
   "id": "b7501b3a-c5c6-4dfe-a9a7-658a3ba5386e",
   "metadata": {},
   "outputs": [
    {
     "data": {
      "text/plain": [
       "{'ENST00000269571': 'MELAALCRWGLLLALLPPGAASTQVCTGTDMKLRLPASPETHLDMLRHLYQGCQVVQGNLELTYLPTNASLSFLQDIQEVQGYVLIAHNQVRQVPLQRLRIVRGTQLFEDNYALAVLDNGDPLNNTTPVTGASPGGLRELQLRSLTEILKGGVLIQRNPQLCYQDTILWKDIFHKNNQLALTLIDTNRSRACHPCSPMCKGSRCWGESSEDCQSLTRTVCAGGCARCKGPLPTDCCHEQCAAGCTGPKHSDCLACLHFNHSGICELHCPALVTYNTDTFESMPNPEGRYTFGASCVTACPYNYLSTDVGSCTLVCPLHNQEVTAEDGTQRCEKCSKPCARVCYGLGMEHLREVRAVTSANIQEFAGCKKIFGSLAFLPESFDGDPASNTAPLQPEQLQVFETLEEITGYLYISAWPDSLPDLSVFQNLQVIRGRILHNGAYSLTLQGLGISWLGLRSLRELGSGLALIHHNTHLCFVHTVPWDQLFRNPHQALLHTANRPEDECVGEGLACHQLCARGHCWGPGPTQCVNCSQFLRGQECVEECRVLQGLPREYVNARHCLPCHPECQPQNGSVTCFGPEADQCVACAHYKDPPFCVARCPSGVKPDLSYMPIWKFPDEEGACQPCPINCTHSCVDLDDKGCPAEQRASPLTSIISAVVGILLVVVLGVVFGILIKRRQQKIRKYTMRRLLQETELVEPLTPSGAMPNQAQMRILKETELRKVKVLGSGAFGTVYKGIWIPDGENVKIPVAIKVLRENTSPKANKEILDEAYVMAGVGSPYVSRLLGICLTSTVQLVTQLMPYGCLLDHVRENRGRLGSQDLLNWCMQIAKGMSYLEDVRLVHRDLAARNVLVKSPNHVKITDFGLARLLDIDETEYHADGGKVPIKWMALESILRRRFTHQSDVWSYGVTVWELMTFGAKPYDGIPAREIPDLLEKGERLPQPPICTIDVYMIMVKCWMIDSECRPRFRELVSEFSRMARDPQRFVVIQNEDLGPASPLDSTFYRSLLEDDDMGDLVDAEEYLVPQQGFFCPDPAPGAGGMVHHRHRSSSTRSGGGDLTLGLEPSEEEAPRSPLAPSEGAGSDVFDGDLGMGAAKGLQSLPTHDPSPLQRYSEDPTVPLPSETDGYVAPLTCSPQPEYVNQPDVRPQPPSPREGPLPAARPAGATLERPKTLSPGKNGVVKDVFAFGGAVENPEYLTPQGGAAPQPHPPPAFSPAFDNLYYWDQDPPERGAPPSTFKGTPTAENPEYLGLDVPV',\n",
       " 'ENST00000541774': 'MPRGSWKPQVCTGTDMKLRLPASPETHLDMLRHLYQGCQVVQGNLELTYLPTNASLSFLQDIQEVQGYVLIAHNQVRQVPLQRLRIVRGTQLFEDNYALAVLDNGDPLNNTTPVTGASPGGLRELQLRSLTEILKGGVLIQRNPQLCYQDTILWKDIFHKNNQLALTLIDTNRSRACHPCSPMCKGSRCWGESSEDCQSLTRTVCAGGCARCKGPLPTDCCHEQCAAGCTGPKHSDCLACLHFNHSGICELHCPALVTYNTDTFESMPNPEGRYTFGASCVTACPYNYLSTDVGSCTLVCPLHNQEVTAEDGTQRCEKCSKPCARVCYGLGMEHLREVRAVTSANIQEFAGCKKIFGSLAFLPESFDGDPASNTAPLQPEQLQVFETLEEITGYLYISAWPDSLPDLSVFQNLQVIRGRILHNGAYSLTLQGLGISWLGLRSLRELGSGLALIHHNTHLCFVHTVPWDQLFRNPHQALLHTANRPEDECVGEGLACHQLCARGHCWGPGPTQCVNCSQFLRGQECVEECRVLQGLPREYVNARHCLPCHPECQPQNGSVTCFGPEADQCVACAHYKDPPFCVARCPSGVKPDLSYMPIWKFPDEEGACQPCPINCTHSCVDLDDKGCPAEQRASPLTSIISAVVGILLVVVLGVVFGILIKRRQQKIRKYTMRRLLQETELVEPLTPSGAMPNQAQMRILKETELRKVKVLGSGAFGTVYKGIWIPDGENVKIPVAIKVLRENTSPKANKEILDEAYVMAGVGSPYVSRLLGICLTSTVQLVTQLMPYGCLLDHVRENRGRLGSQDLLNWCMQIAKGMSYLEDVRLVHRDLAARNVLVKSPNHVKITDFGLARLLDIDETEYHADGGKVPIKWMALESILRRRFTHQSDVWSYGVTVWELMTFGAKPYDGIPAREIPDLLEKGERLPQPPICTIDVYMIMVKCWMIDSECRPRFRELVSEFSRMARDPQRFVVIQNEDLGPASPLDSTFYRSLLEDDDMGDLVDAEEYLVPQQGFFCPDPAPGAGGMVHHRHRSSSTRSGGGDLTLGLEPSEEEAPRSPLAPSEGAGSDVFDGDLGMGAAKGLQSLPTHDPSPLQRYSEDPTVPLPSETDGYVAPLTCSPQPEYVNQPDVRPQPPSPREGPLPAARPAGATLERPKTLSPGKNGVVKDVFAFGGAVENPEYLTPQGGAAPQPHPPPAFSPAFDNLYYWDQDPPERGAPPSTFKGTPTAENPEYLGLDVPV'}"
      ]
     },
     "execution_count": 17,
     "metadata": {},
     "output_type": "execute_result"
    }
   ],
   "source": [
    "wildtype_seq"
   ]
  },
  {
   "cell_type": "code",
   "execution_count": 18,
   "id": "401e378a-ea2b-4b19-a82c-5a5050c7dc1d",
   "metadata": {},
   "outputs": [],
   "source": [
    "# Apply mutations and store results\n",
    "def apply_mutation(row):\n",
    "    mutation = row['HGVS Consequence']\n",
    "    sequence = row['Transcript']\n",
    "    sequence = wildtype_seq[sequence.split('.')[0]]\n",
    "    \n",
    "    if mutation.startswith(\"p.\"):\n",
    "        try:\n",
    "            return apply_protein_mutation(sequence, mutation)\n",
    "        except ValueError as e:\n",
    "            return f\"Error: {e}\"\n",
    "\n",
    "missense_df['Mutated sequence'] = missense_df.apply(apply_mutation, axis=1)"
   ]
  },
  {
   "cell_type": "code",
   "execution_count": 19,
   "id": "f8372bf1-5da1-4829-97a4-c8da4a6885c7",
   "metadata": {},
   "outputs": [
    {
     "data": {
      "text/html": [
       "<div>\n",
       "<style scoped>\n",
       "    .dataframe tbody tr th:only-of-type {\n",
       "        vertical-align: middle;\n",
       "    }\n",
       "\n",
       "    .dataframe tbody tr th {\n",
       "        vertical-align: top;\n",
       "    }\n",
       "\n",
       "    .dataframe thead th {\n",
       "        text-align: right;\n",
       "    }\n",
       "</style>\n",
       "<table border=\"1\" class=\"dataframe\">\n",
       "  <thead>\n",
       "    <tr style=\"text-align: right;\">\n",
       "      <th></th>\n",
       "      <th>rsIDs</th>\n",
       "      <th>Transcript</th>\n",
       "      <th>Allele Frequency</th>\n",
       "      <th>HGVS Consequence</th>\n",
       "      <th>Mutated sequence</th>\n",
       "    </tr>\n",
       "  </thead>\n",
       "  <tbody>\n",
       "    <tr>\n",
       "      <th>0</th>\n",
       "      <td>rs781138665</td>\n",
       "      <td>ENST00000541774.5</td>\n",
       "      <td>1.304412e-06</td>\n",
       "      <td>p.Pro2Ser</td>\n",
       "      <td>MSRGSWKPQVCTGTDMKLRLPASPETHLDMLRHLYQGCQVVQGNLE...</td>\n",
       "    </tr>\n",
       "    <tr>\n",
       "      <th>1</th>\n",
       "      <td>rs1193961962</td>\n",
       "      <td>ENST00000541774.5</td>\n",
       "      <td>1.500189e-05</td>\n",
       "      <td>p.Arg3Trp</td>\n",
       "      <td>MPWGSWKPQVCTGTDMKLRLPASPETHLDMLRHLYQGCQVVQGNLE...</td>\n",
       "    </tr>\n",
       "    <tr>\n",
       "      <th>2</th>\n",
       "      <td>rs1193961962</td>\n",
       "      <td>ENST00000541774.5</td>\n",
       "      <td>5.218049e-06</td>\n",
       "      <td>p.Arg3Gly</td>\n",
       "      <td>MPGGSWKPQVCTGTDMKLRLPASPETHLDMLRHLYQGCQVVQGNLE...</td>\n",
       "    </tr>\n",
       "    <tr>\n",
       "      <th>3</th>\n",
       "      <td>rs966070730</td>\n",
       "      <td>ENST00000541774.5</td>\n",
       "      <td>5.222328e-06</td>\n",
       "      <td>p.Arg3Gln</td>\n",
       "      <td>MPQGSWKPQVCTGTDMKLRLPASPETHLDMLRHLYQGCQVVQGNLE...</td>\n",
       "    </tr>\n",
       "    <tr>\n",
       "      <th>4</th>\n",
       "      <td>rs966070730</td>\n",
       "      <td>ENST00000541774.5</td>\n",
       "      <td>1.958375e-06</td>\n",
       "      <td>p.Arg3Pro</td>\n",
       "      <td>MPPGSWKPQVCTGTDMKLRLPASPETHLDMLRHLYQGCQVVQGNLE...</td>\n",
       "    </tr>\n",
       "    <tr>\n",
       "      <th>5</th>\n",
       "      <td>NaN</td>\n",
       "      <td>ENST00000541774.5</td>\n",
       "      <td>6.530177e-07</td>\n",
       "      <td>p.Gly4Val</td>\n",
       "      <td>MPRVSWKPQVCTGTDMKLRLPASPETHLDMLRHLYQGCQVVQGNLE...</td>\n",
       "    </tr>\n",
       "    <tr>\n",
       "      <th>6</th>\n",
       "      <td>rs1211697061</td>\n",
       "      <td>ENST00000541774.5</td>\n",
       "      <td>6.540479e-07</td>\n",
       "      <td>p.Trp6Arg</td>\n",
       "      <td>MPRGSRKPQVCTGTDMKLRLPASPETHLDMLRHLYQGCQVVQGNLE...</td>\n",
       "    </tr>\n",
       "    <tr>\n",
       "      <th>7</th>\n",
       "      <td>NaN</td>\n",
       "      <td>ENST00000541774.5</td>\n",
       "      <td>6.559863e-07</td>\n",
       "      <td>p.Lys7Thr</td>\n",
       "      <td>MPRGSWTPQVCTGTDMKLRLPASPETHLDMLRHLYQGCQVVQGNLE...</td>\n",
       "    </tr>\n",
       "    <tr>\n",
       "      <th>8</th>\n",
       "      <td>rs4252596</td>\n",
       "      <td>ENST00000541774.5</td>\n",
       "      <td>1.193098e-01</td>\n",
       "      <td>p.Pro8Thr</td>\n",
       "      <td>MPRGSWKTQVCTGTDMKLRLPASPETHLDMLRHLYQGCQVVQGNLE...</td>\n",
       "    </tr>\n",
       "    <tr>\n",
       "      <th>9</th>\n",
       "      <td>NaN</td>\n",
       "      <td>ENST00000541774.5</td>\n",
       "      <td>6.673705e-07</td>\n",
       "      <td>p.Val10Met</td>\n",
       "      <td>MPRGSWKPQMCTGTDMKLRLPASPETHLDMLRHLYQGCQVVQGNLE...</td>\n",
       "    </tr>\n",
       "    <tr>\n",
       "      <th>10</th>\n",
       "      <td>NaN</td>\n",
       "      <td>ENST00000541774.5</td>\n",
       "      <td>3.336853e-06</td>\n",
       "      <td>p.Val10Leu</td>\n",
       "      <td>MPRGSWKPQLCTGTDMKLRLPASPETHLDMLRHLYQGCQVVQGNLE...</td>\n",
       "    </tr>\n",
       "    <tr>\n",
       "      <th>11</th>\n",
       "      <td>rs1039589946</td>\n",
       "      <td>ENST00000269571.10</td>\n",
       "      <td>6.931092e-06</td>\n",
       "      <td>p.Ala4Ser</td>\n",
       "      <td>MELSALCRWGLLLALLPPGAASTQVCTGTDMKLRLPASPETHLDML...</td>\n",
       "    </tr>\n",
       "  </tbody>\n",
       "</table>\n",
       "</div>"
      ],
      "text/plain": [
       "           rsIDs          Transcript  Allele Frequency HGVS Consequence  \\\n",
       "0    rs781138665   ENST00000541774.5      1.304412e-06        p.Pro2Ser   \n",
       "1   rs1193961962   ENST00000541774.5      1.500189e-05        p.Arg3Trp   \n",
       "2   rs1193961962   ENST00000541774.5      5.218049e-06        p.Arg3Gly   \n",
       "3    rs966070730   ENST00000541774.5      5.222328e-06        p.Arg3Gln   \n",
       "4    rs966070730   ENST00000541774.5      1.958375e-06        p.Arg3Pro   \n",
       "5            NaN   ENST00000541774.5      6.530177e-07        p.Gly4Val   \n",
       "6   rs1211697061   ENST00000541774.5      6.540479e-07        p.Trp6Arg   \n",
       "7            NaN   ENST00000541774.5      6.559863e-07        p.Lys7Thr   \n",
       "8      rs4252596   ENST00000541774.5      1.193098e-01        p.Pro8Thr   \n",
       "9            NaN   ENST00000541774.5      6.673705e-07       p.Val10Met   \n",
       "10           NaN   ENST00000541774.5      3.336853e-06       p.Val10Leu   \n",
       "11  rs1039589946  ENST00000269571.10      6.931092e-06        p.Ala4Ser   \n",
       "\n",
       "                                     Mutated sequence  \n",
       "0   MSRGSWKPQVCTGTDMKLRLPASPETHLDMLRHLYQGCQVVQGNLE...  \n",
       "1   MPWGSWKPQVCTGTDMKLRLPASPETHLDMLRHLYQGCQVVQGNLE...  \n",
       "2   MPGGSWKPQVCTGTDMKLRLPASPETHLDMLRHLYQGCQVVQGNLE...  \n",
       "3   MPQGSWKPQVCTGTDMKLRLPASPETHLDMLRHLYQGCQVVQGNLE...  \n",
       "4   MPPGSWKPQVCTGTDMKLRLPASPETHLDMLRHLYQGCQVVQGNLE...  \n",
       "5   MPRVSWKPQVCTGTDMKLRLPASPETHLDMLRHLYQGCQVVQGNLE...  \n",
       "6   MPRGSRKPQVCTGTDMKLRLPASPETHLDMLRHLYQGCQVVQGNLE...  \n",
       "7   MPRGSWTPQVCTGTDMKLRLPASPETHLDMLRHLYQGCQVVQGNLE...  \n",
       "8   MPRGSWKTQVCTGTDMKLRLPASPETHLDMLRHLYQGCQVVQGNLE...  \n",
       "9   MPRGSWKPQMCTGTDMKLRLPASPETHLDMLRHLYQGCQVVQGNLE...  \n",
       "10  MPRGSWKPQLCTGTDMKLRLPASPETHLDMLRHLYQGCQVVQGNLE...  \n",
       "11  MELSALCRWGLLLALLPPGAASTQVCTGTDMKLRLPASPETHLDML...  "
      ]
     },
     "execution_count": 19,
     "metadata": {},
     "output_type": "execute_result"
    }
   ],
   "source": [
    "missense_df"
   ]
  },
  {
   "cell_type": "code",
   "execution_count": 21,
   "id": "54314abd-aa76-474a-8e6d-f6dcf00c7a93",
   "metadata": {},
   "outputs": [
    {
     "name": "stdout",
     "output_type": "stream",
     "text": [
      "DataFrame saved to test_10_missense_mutation.csv\n"
     ]
    }
   ],
   "source": [
    "# Saving to CSV Excel Format\n",
    "# Specify the file path where you want to save the CSV file\n",
    "file_path = 'test_10_missense_mutation.csv'\n",
    "\n",
    "# Save the DataFrame to CSV\n",
    "missense_df.to_csv(file_path, index=False)\n",
    "\n",
    "print(f\"DataFrame saved to {file_path}\")"
   ]
  },
  {
   "cell_type": "code",
   "execution_count": 22,
   "id": "c478cea6-7a1e-432d-9b2b-024641811f94",
   "metadata": {},
   "outputs": [
    {
     "name": "stdout",
     "output_type": "stream",
     "text": [
      "DataFrame saved to test_10_missense_mutation.json\n"
     ]
    }
   ],
   "source": [
    "# Specify the file path where you want to save the JSON file (txt format)\n",
    "file_path = 'test_10_missense_mutation.json'\n",
    "\n",
    "# Save the DataFrame to JSON\n",
    "missense_df.to_json(file_path, orient='records')\n",
    "\n",
    "print(f\"DataFrame saved to {file_path}\")"
   ]
  },
  {
   "cell_type": "code",
   "execution_count": null,
   "id": "8432e939-9ec9-49c6-80e0-b22aade2435d",
   "metadata": {},
   "outputs": [],
   "source": []
  }
 ],
 "metadata": {
  "kernelspec": {
   "display_name": "Python 3 (ipykernel)",
   "language": "python",
   "name": "python3"
  },
  "language_info": {
   "codemirror_mode": {
    "name": "ipython",
    "version": 3
   },
   "file_extension": ".py",
   "mimetype": "text/x-python",
   "name": "python",
   "nbconvert_exporter": "python",
   "pygments_lexer": "ipython3",
   "version": "3.12.1"
  }
 },
 "nbformat": 4,
 "nbformat_minor": 5
}
