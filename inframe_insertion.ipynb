{
 "cells": [
  {
   "cell_type": "code",
   "execution_count": 95,
   "id": "1ccecc7f-c01f-4e52-93ba-b8432f96ea3b",
   "metadata": {},
   "outputs": [],
   "source": [
    "import pandas as pd\n",
    "import re\n",
    "import requests"
   ]
  },
  {
   "cell_type": "code",
   "execution_count": 96,
   "id": "db955eb5-3bc9-4086-992e-1332781d0d17",
   "metadata": {},
   "outputs": [],
   "source": [
    "# Function to convert three-letter amino acid code to one-letter code\n",
    "def aa_three_to_one(three_letter_code):\n",
    "    aa_dict = {\n",
    "        'Ala': 'A', 'Arg': 'R', 'Asn': 'N', 'Asp': 'D', 'Cys': 'C',\n",
    "        'Glu': 'E', 'Gln': 'Q', 'Gly': 'G', 'His': 'H', 'Ile': 'I',\n",
    "        'Leu': 'L', 'Lys': 'K', 'Met': 'M', 'Phe': 'F', 'Pro': 'P',\n",
    "        'Ser': 'S', 'Thr': 'T', 'Trp': 'W', 'Tyr': 'Y', 'Val': 'V'\n",
    "    }\n",
    "    return aa_dict.get(three_letter_code, '')"
   ]
  },
  {
   "cell_type": "code",
   "execution_count": 97,
   "id": "70aa6d63-fb02-4626-bef3-df3209bc5898",
   "metadata": {},
   "outputs": [],
   "source": [
    "# Function to fetch protein sequence using Ensembl API\n",
    "def get_protein_sequence(transcript_id):\n",
    "    server = \"https://rest.ensembl.org\"\n",
    "    ext = f\"/sequence/id/{transcript_id}?type=protein\"\n",
    "    \n",
    "    response = requests.get(server + ext, headers={\"Content-Type\": \"application/json\"})\n",
    "    if not response.ok:\n",
    "        response.raise_for_status()\n",
    "    \n",
    "    return response.json()"
   ]
  },
  {
   "cell_type": "code",
   "execution_count": 98,
   "id": "05204f92-375a-4bb1-9fe9-2d805f82639f",
   "metadata": {},
   "outputs": [],
   "source": [
    "def parse_hgvs_insertion(hgvs_consequence):\n",
    "    import re\n",
    "    insertion_pattern = re.compile(r'p\\.([A-Za-z]+)(\\d+)_?([A-Za-z]*)?(\\d+)?(dup|ins)?([A-Za-z]*)')\n",
    "    \n",
    "    match = insertion_pattern.match(hgvs_consequence)\n",
    "    if match:\n",
    "        start_aa = match.group(1)\n",
    "        start_pos = int(match.group(2))\n",
    "        end_aa = match.group(3) if match.group(3) else start_aa\n",
    "        end_pos = int(match.group(4)) if match.group(4) else start_pos\n",
    "        insertion_type = match.group(5) if match.group(5) else 'dup'\n",
    "        insertion = match.group(6)\n",
    "        return (start_aa, start_pos, end_aa, end_pos, insertion, insertion_type)\n",
    "    else:\n",
    "        raise ValueError(f\"Invalid HGVS consequence format: {hgvs_consequence}\")"
   ]
  },
  {
   "cell_type": "code",
   "execution_count": 99,
   "id": "247ba3d1-a3b3-443b-9908-65f8992789c3",
   "metadata": {},
   "outputs": [],
   "source": [
    "def apply_inframe_insertion(wildtype_sequence, hgvs_consequence):\n",
    "    start_aa, start_pos, end_aa, end_pos, insertion, insertion_type = parse_hgvs_insertion(hgvs_consequence)\n",
    "    \n",
    "    insertion_index = end_pos\n",
    "\n",
    "    if insertion_type == 'dup':\n",
    "        # Duplication: duplicate the amino acids in the specified range\n",
    "        dup_sequence = wildtype_sequence[start_pos-1:end_pos]\n",
    "        mutated_sequence = wildtype_sequence[:insertion_index] + dup_sequence + wildtype_sequence[insertion_index:]\n",
    "    elif insertion_type == 'ins':\n",
    "        # Insertion: convert the insertion sequence to one-letter code and insert it\n",
    "        insertion_one_letter = ''.join([aa_three_to_one(insertion[i:i+3]) for i in range(0, len(insertion), 3)])\n",
    "        mutated_sequence = wildtype_sequence[:start_pos] + insertion_one_letter + wildtype_sequence[start_pos:]\n",
    "    \n",
    "    return mutated_sequence"
   ]
  },
  {
   "cell_type": "code",
   "execution_count": 100,
   "id": "1fa076b2-e2f4-4926-b946-b3fbc1a9ae2e",
   "metadata": {},
   "outputs": [],
   "source": [
    "latest_df = pd.read_csv('dataset_v2.csv')"
   ]
  },
  {
   "cell_type": "code",
   "execution_count": 101,
   "id": "d0072536-2a8e-4b43-a1cf-b252551eb247",
   "metadata": {},
   "outputs": [],
   "source": [
    "columns_to_copy = ['rsIDs', 'Transcript', 'Allele Frequency', 'HGVS Consequence', 'VEP Annotation']\n",
    "inframe_ins_df = latest_df[columns_to_copy].copy()"
   ]
  },
  {
   "cell_type": "code",
   "execution_count": 102,
   "id": "9124b7cc-3902-470b-9ad6-e3cd0522556d",
   "metadata": {},
   "outputs": [],
   "source": [
    "inframe_ins_df = inframe_ins_df[inframe_ins_df['VEP Annotation'] == 'inframe_insertion']"
   ]
  },
  {
   "cell_type": "code",
   "execution_count": 103,
   "id": "6b023371-6dc9-4ee1-83c7-1de372dc96ae",
   "metadata": {},
   "outputs": [],
   "source": [
    "unique_transcripts = inframe_ins_df['Transcript'].unique()\n",
    "unique_transcripts = [x.split('.')[0] for x in unique_transcripts]\n",
    "unique_transcripts = set(unique_transcripts)"
   ]
  },
  {
   "cell_type": "code",
   "execution_count": 104,
   "id": "5ad5403a-5c0a-4cb8-a551-9f03cfa9e38d",
   "metadata": {},
   "outputs": [],
   "source": [
    "wildtype_seq = {}\n",
    "\n",
    "for transcript in unique_transcripts:\n",
    "    try:\n",
    "        sequence = get_protein_sequence(transcript)\n",
    "        wildtype_seq[transcript] = sequence['seq']\n",
    "    except Exception as e:\n",
    "        print(f\"Error fetching sequence for {transcript_id}: {e}\")"
   ]
  },
  {
   "cell_type": "code",
   "execution_count": 105,
   "id": "84dec450-022a-44d9-8cdc-e0d3ee64956c",
   "metadata": {},
   "outputs": [
    {
     "data": {
      "text/plain": [
       "{'ENST00000269571': 'MELAALCRWGLLLALLPPGAASTQVCTGTDMKLRLPASPETHLDMLRHLYQGCQVVQGNLELTYLPTNASLSFLQDIQEVQGYVLIAHNQVRQVPLQRLRIVRGTQLFEDNYALAVLDNGDPLNNTTPVTGASPGGLRELQLRSLTEILKGGVLIQRNPQLCYQDTILWKDIFHKNNQLALTLIDTNRSRACHPCSPMCKGSRCWGESSEDCQSLTRTVCAGGCARCKGPLPTDCCHEQCAAGCTGPKHSDCLACLHFNHSGICELHCPALVTYNTDTFESMPNPEGRYTFGASCVTACPYNYLSTDVGSCTLVCPLHNQEVTAEDGTQRCEKCSKPCARVCYGLGMEHLREVRAVTSANIQEFAGCKKIFGSLAFLPESFDGDPASNTAPLQPEQLQVFETLEEITGYLYISAWPDSLPDLSVFQNLQVIRGRILHNGAYSLTLQGLGISWLGLRSLRELGSGLALIHHNTHLCFVHTVPWDQLFRNPHQALLHTANRPEDECVGEGLACHQLCARGHCWGPGPTQCVNCSQFLRGQECVEECRVLQGLPREYVNARHCLPCHPECQPQNGSVTCFGPEADQCVACAHYKDPPFCVARCPSGVKPDLSYMPIWKFPDEEGACQPCPINCTHSCVDLDDKGCPAEQRASPLTSIISAVVGILLVVVLGVVFGILIKRRQQKIRKYTMRRLLQETELVEPLTPSGAMPNQAQMRILKETELRKVKVLGSGAFGTVYKGIWIPDGENVKIPVAIKVLRENTSPKANKEILDEAYVMAGVGSPYVSRLLGICLTSTVQLVTQLMPYGCLLDHVRENRGRLGSQDLLNWCMQIAKGMSYLEDVRLVHRDLAARNVLVKSPNHVKITDFGLARLLDIDETEYHADGGKVPIKWMALESILRRRFTHQSDVWSYGVTVWELMTFGAKPYDGIPAREIPDLLEKGERLPQPPICTIDVYMIMVKCWMIDSECRPRFRELVSEFSRMARDPQRFVVIQNEDLGPASPLDSTFYRSLLEDDDMGDLVDAEEYLVPQQGFFCPDPAPGAGGMVHHRHRSSSTRSGGGDLTLGLEPSEEEAPRSPLAPSEGAGSDVFDGDLGMGAAKGLQSLPTHDPSPLQRYSEDPTVPLPSETDGYVAPLTCSPQPEYVNQPDVRPQPPSPREGPLPAARPAGATLERPKTLSPGKNGVVKDVFAFGGAVENPEYLTPQGGAAPQPHPPPAFSPAFDNLYYWDQDPPERGAPPSTFKGTPTAENPEYLGLDVPV'}"
      ]
     },
     "execution_count": 105,
     "metadata": {},
     "output_type": "execute_result"
    }
   ],
   "source": [
    "wildtype_seq"
   ]
  },
  {
   "cell_type": "code",
   "execution_count": 106,
   "id": "936e192a-389d-4bd9-b39d-c7e93e8af69a",
   "metadata": {},
   "outputs": [
    {
     "data": {
      "text/html": [
       "<div>\n",
       "<style scoped>\n",
       "    .dataframe tbody tr th:only-of-type {\n",
       "        vertical-align: middle;\n",
       "    }\n",
       "\n",
       "    .dataframe tbody tr th {\n",
       "        vertical-align: top;\n",
       "    }\n",
       "\n",
       "    .dataframe thead th {\n",
       "        text-align: right;\n",
       "    }\n",
       "</style>\n",
       "<table border=\"1\" class=\"dataframe\">\n",
       "  <thead>\n",
       "    <tr style=\"text-align: right;\">\n",
       "      <th></th>\n",
       "      <th>rsIDs</th>\n",
       "      <th>Transcript</th>\n",
       "      <th>Allele Frequency</th>\n",
       "      <th>HGVS Consequence</th>\n",
       "      <th>VEP Annotation</th>\n",
       "    </tr>\n",
       "  </thead>\n",
       "  <tbody>\n",
       "    <tr>\n",
       "      <th>603</th>\n",
       "      <td>NaN</td>\n",
       "      <td>ENST00000269571.10</td>\n",
       "      <td>6.200674e-07</td>\n",
       "      <td>p.Val480dup</td>\n",
       "      <td>inframe_insertion</td>\n",
       "    </tr>\n",
       "    <tr>\n",
       "      <th>1219</th>\n",
       "      <td>NaN</td>\n",
       "      <td>ENST00000269571.10</td>\n",
       "      <td>6.203343e-07</td>\n",
       "      <td>p.Ala1070_Ala1081dup</td>\n",
       "      <td>inframe_insertion</td>\n",
       "    </tr>\n",
       "    <tr>\n",
       "      <th>1306</th>\n",
       "      <td>NaN</td>\n",
       "      <td>ENST00000269571.10</td>\n",
       "      <td>6.248102e-07</td>\n",
       "      <td>c.3406_3412+2dup</td>\n",
       "      <td>inframe_insertion</td>\n",
       "    </tr>\n",
       "    <tr>\n",
       "      <th>1401</th>\n",
       "      <td>NaN</td>\n",
       "      <td>ENST00000269571.10</td>\n",
       "      <td>6.195349e-07</td>\n",
       "      <td>p.Pro1205_Gln1206insHisPro</td>\n",
       "      <td>inframe_insertion</td>\n",
       "    </tr>\n",
       "  </tbody>\n",
       "</table>\n",
       "</div>"
      ],
      "text/plain": [
       "     rsIDs          Transcript  Allele Frequency            HGVS Consequence  \\\n",
       "603    NaN  ENST00000269571.10      6.200674e-07                 p.Val480dup   \n",
       "1219   NaN  ENST00000269571.10      6.203343e-07        p.Ala1070_Ala1081dup   \n",
       "1306   NaN  ENST00000269571.10      6.248102e-07            c.3406_3412+2dup   \n",
       "1401   NaN  ENST00000269571.10      6.195349e-07  p.Pro1205_Gln1206insHisPro   \n",
       "\n",
       "         VEP Annotation  \n",
       "603   inframe_insertion  \n",
       "1219  inframe_insertion  \n",
       "1306  inframe_insertion  \n",
       "1401  inframe_insertion  "
      ]
     },
     "execution_count": 106,
     "metadata": {},
     "output_type": "execute_result"
    }
   ],
   "source": [
    "inframe_ins_df"
   ]
  },
  {
   "cell_type": "code",
   "execution_count": 107,
   "id": "3195b9b3-e5d2-4007-bb2e-b863226780cf",
   "metadata": {},
   "outputs": [],
   "source": [
    "def apply_mutation(row):\n",
    "    mutation = row['HGVS Consequence']\n",
    "    sequence = row['Transcript']\n",
    "    sequence = wildtype_seq[sequence.split('.')[0]]\n",
    "    \n",
    "    if mutation.startswith(\"p.\"):\n",
    "        try:\n",
    "            return apply_inframe_insertion(sequence, mutation)\n",
    "        except ValueError as e:\n",
    "            return f\"Error: {e}\"\n",
    "\n",
    "inframe_ins_df['Mutated sequence'] = inframe_ins_df.apply(apply_mutation, axis=1)"
   ]
  },
  {
   "cell_type": "code",
   "execution_count": 108,
   "id": "bd0b6841-08bf-467a-ab61-ccd1932512b1",
   "metadata": {},
   "outputs": [
    {
     "data": {
      "text/html": [
       "<div>\n",
       "<style scoped>\n",
       "    .dataframe tbody tr th:only-of-type {\n",
       "        vertical-align: middle;\n",
       "    }\n",
       "\n",
       "    .dataframe tbody tr th {\n",
       "        vertical-align: top;\n",
       "    }\n",
       "\n",
       "    .dataframe thead th {\n",
       "        text-align: right;\n",
       "    }\n",
       "</style>\n",
       "<table border=\"1\" class=\"dataframe\">\n",
       "  <thead>\n",
       "    <tr style=\"text-align: right;\">\n",
       "      <th></th>\n",
       "      <th>rsIDs</th>\n",
       "      <th>Transcript</th>\n",
       "      <th>Allele Frequency</th>\n",
       "      <th>HGVS Consequence</th>\n",
       "      <th>VEP Annotation</th>\n",
       "      <th>Mutated sequence</th>\n",
       "    </tr>\n",
       "  </thead>\n",
       "  <tbody>\n",
       "    <tr>\n",
       "      <th>603</th>\n",
       "      <td>NaN</td>\n",
       "      <td>ENST00000269571.10</td>\n",
       "      <td>6.200674e-07</td>\n",
       "      <td>p.Val480dup</td>\n",
       "      <td>inframe_insertion</td>\n",
       "      <td>MELAALCRWGLLLALLPPGAASTQVCTGTDMKLRLPASPETHLDML...</td>\n",
       "    </tr>\n",
       "    <tr>\n",
       "      <th>1219</th>\n",
       "      <td>NaN</td>\n",
       "      <td>ENST00000269571.10</td>\n",
       "      <td>6.203343e-07</td>\n",
       "      <td>p.Ala1070_Ala1081dup</td>\n",
       "      <td>inframe_insertion</td>\n",
       "      <td>MELAALCRWGLLLALLPPGAASTQVCTGTDMKLRLPASPETHLDML...</td>\n",
       "    </tr>\n",
       "    <tr>\n",
       "      <th>1306</th>\n",
       "      <td>NaN</td>\n",
       "      <td>ENST00000269571.10</td>\n",
       "      <td>6.248102e-07</td>\n",
       "      <td>c.3406_3412+2dup</td>\n",
       "      <td>inframe_insertion</td>\n",
       "      <td>None</td>\n",
       "    </tr>\n",
       "    <tr>\n",
       "      <th>1401</th>\n",
       "      <td>NaN</td>\n",
       "      <td>ENST00000269571.10</td>\n",
       "      <td>6.195349e-07</td>\n",
       "      <td>p.Pro1205_Gln1206insHisPro</td>\n",
       "      <td>inframe_insertion</td>\n",
       "      <td>MELAALCRWGLLLALLPPGAASTQVCTGTDMKLRLPASPETHLDML...</td>\n",
       "    </tr>\n",
       "  </tbody>\n",
       "</table>\n",
       "</div>"
      ],
      "text/plain": [
       "     rsIDs          Transcript  Allele Frequency            HGVS Consequence  \\\n",
       "603    NaN  ENST00000269571.10      6.200674e-07                 p.Val480dup   \n",
       "1219   NaN  ENST00000269571.10      6.203343e-07        p.Ala1070_Ala1081dup   \n",
       "1306   NaN  ENST00000269571.10      6.248102e-07            c.3406_3412+2dup   \n",
       "1401   NaN  ENST00000269571.10      6.195349e-07  p.Pro1205_Gln1206insHisPro   \n",
       "\n",
       "         VEP Annotation                                   Mutated sequence  \n",
       "603   inframe_insertion  MELAALCRWGLLLALLPPGAASTQVCTGTDMKLRLPASPETHLDML...  \n",
       "1219  inframe_insertion  MELAALCRWGLLLALLPPGAASTQVCTGTDMKLRLPASPETHLDML...  \n",
       "1306  inframe_insertion                                               None  \n",
       "1401  inframe_insertion  MELAALCRWGLLLALLPPGAASTQVCTGTDMKLRLPASPETHLDML...  "
      ]
     },
     "execution_count": 108,
     "metadata": {},
     "output_type": "execute_result"
    }
   ],
   "source": [
    "inframe_ins_df"
   ]
  },
  {
   "cell_type": "code",
   "execution_count": 109,
   "id": "e49cae72-cd29-4c83-88c5-db2143245b0c",
   "metadata": {},
   "outputs": [
    {
     "name": "stdout",
     "output_type": "stream",
     "text": [
      "DataFrame saved to inframe_insertion.csv\n"
     ]
    }
   ],
   "source": [
    "# Saving to CSV Excel Format\n",
    "# Specify the file path where you want to save the CSV file\n",
    "file_path = 'inframe_insertion.csv'\n",
    "\n",
    "# Save the DataFrame to CSV\n",
    "inframe_ins_df.to_csv(file_path, index=False)\n",
    "\n",
    "print(f\"DataFrame saved to {file_path}\")"
   ]
  },
  {
   "cell_type": "code",
   "execution_count": 110,
   "id": "cd449ad3-b1e0-42b0-a298-b0743e382a61",
   "metadata": {},
   "outputs": [
    {
     "name": "stdout",
     "output_type": "stream",
     "text": [
      "DataFrame saved to inframe_insertion.json\n"
     ]
    }
   ],
   "source": [
    "# Specify the file path where you want to save the JSON file (txt format)\n",
    "file_path = 'inframe_insertion.json'\n",
    "\n",
    "# Save the DataFrame to JSON\n",
    "inframe_ins_df.to_json(file_path, orient='records')\n",
    "\n",
    "print(f\"DataFrame saved to {file_path}\")"
   ]
  },
  {
   "cell_type": "code",
   "execution_count": 111,
   "id": "e67406f2-0a82-45b9-9e23-033566ca7a31",
   "metadata": {},
   "outputs": [
    {
     "name": "stdout",
     "output_type": "stream",
     "text": [
      "Data converted and saved to inframe_insertion.txt\n"
     ]
    }
   ],
   "source": [
    "import json\n",
    "\n",
    "# Specify paths\n",
    "json_file = 'inframe_insertion.json'\n",
    "txt_file = 'inframe_insertion.txt'\n",
    "\n",
    "# Read JSON data from file\n",
    "with open(json_file, 'r') as f:\n",
    "    data = json.load(f)\n",
    "\n",
    "# Format as plain text\n",
    "text_data = ''\n",
    "for item in data:\n",
    "    text_data += f'''rsIDs: {item['rsIDs']}\\nTranscript: {item['Transcript']}\\nAllele Frequency: {item['Allele Frequency']}\\nHGVS Consequence: {item['HGVS Consequence']}\\nVEP Annotation: {item['VEP Annotation']}\\nMutated sequence: {item['Mutated sequence']}\n",
    "    \\n============================================\\n'''\n",
    "\n",
    "# Write to text file\n",
    "with open(txt_file, 'w') as f:\n",
    "    f.write(text_data)\n",
    "\n",
    "print(f\"Data converted and saved to {txt_file}\")"
   ]
  },
  {
   "cell_type": "markdown",
   "id": "2945cbc2-eb57-477c-b8ac-344fc62257b8",
   "metadata": {},
   "source": [
    "### Testing"
   ]
  },
  {
   "cell_type": "code",
   "execution_count": 93,
   "id": "99675690-0a77-43ec-97bc-5bad5f1dbaa3",
   "metadata": {},
   "outputs": [],
   "source": [
    "test = inframe_ins_df['Mutated sequence'].iloc[0]"
   ]
  },
  {
   "cell_type": "code",
   "execution_count": 94,
   "id": "cd342d66-b61b-409b-a49e-5b8ac1213c98",
   "metadata": {},
   "outputs": [
    {
     "data": {
      "text/plain": [
       "'VV'"
      ]
     },
     "execution_count": 94,
     "metadata": {},
     "output_type": "execute_result"
    }
   ],
   "source": [
    "test[479:481]"
   ]
  },
  {
   "cell_type": "code",
   "execution_count": 86,
   "id": "bcd9a653-05c9-43a7-b063-2c202c5ec21a",
   "metadata": {},
   "outputs": [
    {
     "data": {
      "text/plain": [
       "'APRSPLAPSEGA'"
      ]
     },
     "execution_count": 86,
     "metadata": {},
     "output_type": "execute_result"
    }
   ],
   "source": [
    "test[1081:1093]"
   ]
  },
  {
   "cell_type": "code",
   "execution_count": 87,
   "id": "5a2841d6-7e6d-436b-9661-aa2c083b52b5",
   "metadata": {},
   "outputs": [],
   "source": [
    "ori = wildtype_seq['ENST00000269571']"
   ]
  },
  {
   "cell_type": "code",
   "execution_count": 92,
   "id": "31599372-502f-476c-8159-9f9e794b64e0",
   "metadata": {},
   "outputs": [
    {
     "data": {
      "text/plain": [
       "'VP'"
      ]
     },
     "execution_count": 92,
     "metadata": {},
     "output_type": "execute_result"
    }
   ],
   "source": [
    "ori[479:481]"
   ]
  },
  {
   "cell_type": "code",
   "execution_count": 89,
   "id": "80b894f2-e937-4ac7-b415-1eca367e9991",
   "metadata": {},
   "outputs": [
    {
     "data": {
      "text/plain": [
       "'GSDVFDGDLGMG'"
      ]
     },
     "execution_count": 89,
     "metadata": {},
     "output_type": "execute_result"
    }
   ],
   "source": [
    "ori[1081:1093]"
   ]
  },
  {
   "cell_type": "code",
   "execution_count": 55,
   "id": "7e434281-8cfd-422f-9e84-59c9ed0e74ee",
   "metadata": {},
   "outputs": [
    {
     "data": {
      "text/plain": [
       "1267"
      ]
     },
     "execution_count": 55,
     "metadata": {},
     "output_type": "execute_result"
    }
   ],
   "source": [
    "len(test)"
   ]
  },
  {
   "cell_type": "code",
   "execution_count": null,
   "id": "d90eadf9-3d71-4421-be5a-75a7b85e7c82",
   "metadata": {},
   "outputs": [],
   "source": []
  }
 ],
 "metadata": {
  "kernelspec": {
   "display_name": "Python 3 (ipykernel)",
   "language": "python",
   "name": "python3"
  },
  "language_info": {
   "codemirror_mode": {
    "name": "ipython",
    "version": 3
   },
   "file_extension": ".py",
   "mimetype": "text/x-python",
   "name": "python",
   "nbconvert_exporter": "python",
   "pygments_lexer": "ipython3",
   "version": "3.12.1"
  }
 },
 "nbformat": 4,
 "nbformat_minor": 5
}
